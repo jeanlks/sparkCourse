{
 "cells": [
  {
   "cell_type": "code",
   "execution_count": 1,
   "metadata": {},
   "outputs": [],
   "source": [
    "import findspark\n",
    "findspark.init(\"/home/jean/spark-2.4.4-bin-hadoop2.7\")\n",
    "from pyspark.sql import SparkSession\n",
    "\n",
    "spark = SparkSession.builder.appName('sleep').getOrCreate()"
   ]
  },
  {
   "cell_type": "code",
   "execution_count": 2,
   "metadata": {},
   "outputs": [],
   "source": [
    "from pyspark.sql.types import DateType\n",
    "from pyspark.sql.functions import (hour, minute, unix_timestamp,\n",
    "                                   from_unixtime, hour,datediff,\n",
    "                                   mean, month)\n",
    "from pyspark.sql.types import (StructField, StringType,\n",
    "                               IntegerType, StructType, TimestampType)"
   ]
  },
  {
   "cell_type": "code",
   "execution_count": 3,
   "metadata": {},
   "outputs": [],
   "source": [
    "df = spark.read.csv('SLEEP/SLEEP_1568018402172.csv', inferSchema=True, header=True)"
   ]
  },
  {
   "cell_type": "code",
   "execution_count": 4,
   "metadata": {},
   "outputs": [
    {
     "name": "stdout",
     "output_type": "stream",
     "text": [
      "root\n",
      " |-- date: timestamp (nullable = true)\n",
      " |-- lastSyncTime: integer (nullable = true)\n",
      " |-- deepSleepTime: integer (nullable = true)\n",
      " |-- shallowSleepTime: integer (nullable = true)\n",
      " |-- wakeTime: integer (nullable = true)\n",
      " |-- start: integer (nullable = true)\n",
      " |-- stop: integer (nullable = true)\n",
      "\n"
     ]
    }
   ],
   "source": [
    "df.printSchema()"
   ]
  },
  {
   "cell_type": "code",
   "execution_count": 5,
   "metadata": {},
   "outputs": [
    {
     "data": {
      "text/plain": [
       "Row(date=datetime.datetime(2019, 7, 12, 0, 0), lastSyncTime=1563000976, deepSleepTime=98, shallowSleepTime=304, wakeTime=2, start=1562915520, stop=1562939760)"
      ]
     },
     "execution_count": 5,
     "metadata": {},
     "output_type": "execute_result"
    }
   ],
   "source": [
    "df.head()"
   ]
  },
  {
   "cell_type": "code",
   "execution_count": 6,
   "metadata": {},
   "outputs": [],
   "source": [
    "df = df.withColumn(\"dateStart\", from_unixtime(df[\"start\"]))\n",
    "df = df.withColumn(\"dateStop\", from_unixtime(df[\"stop\"]))\n",
    "df = df.withColumn(\"diffHour\", (datediff(df[\"dateStop\"], df[\"dateStart\"])* 24) +\n",
    "                   hour(df[\"dateStop\"]) - hour(df[\"dateStart\"]))"
   ]
  },
  {
   "cell_type": "code",
   "execution_count": 7,
   "metadata": {},
   "outputs": [
    {
     "name": "stdout",
     "output_type": "stream",
     "text": [
      "root\n",
      " |-- date: timestamp (nullable = true)\n",
      " |-- lastSyncTime: integer (nullable = true)\n",
      " |-- deepSleepTime: integer (nullable = true)\n",
      " |-- shallowSleepTime: integer (nullable = true)\n",
      " |-- wakeTime: integer (nullable = true)\n",
      " |-- start: integer (nullable = true)\n",
      " |-- stop: integer (nullable = true)\n",
      " |-- dateStart: string (nullable = true)\n",
      " |-- dateStop: string (nullable = true)\n",
      " |-- diffHour: integer (nullable = true)\n",
      "\n"
     ]
    }
   ],
   "source": [
    "df.printSchema()"
   ]
  },
  {
   "cell_type": "code",
   "execution_count": 8,
   "metadata": {},
   "outputs": [
    {
     "name": "stdout",
     "output_type": "stream",
     "text": [
      "+-----------------+\n",
      "|    average sleep|\n",
      "+-----------------+\n",
      "|7.016949152542373|\n",
      "+-----------------+\n",
      "\n"
     ]
    }
   ],
   "source": [
    "df.select(mean(df[\"diffHour\"]).alias(\"average sleep\")).show()"
   ]
  },
  {
   "cell_type": "code",
   "execution_count": 9,
   "metadata": {},
   "outputs": [
    {
     "data": {
      "text/plain": [
       "<bound method DataFrame.groupBy of DataFrame[date: timestamp, lastSyncTime: int, deepSleepTime: int, shallowSleepTime: int, wakeTime: int, start: int, stop: int, dateStart: string, dateStop: string, diffHour: int]>"
      ]
     },
     "execution_count": 9,
     "metadata": {},
     "output_type": "execute_result"
    }
   ],
   "source": [
    "df.groupBy(m)"
   ]
  },
  {
   "cell_type": "code",
   "execution_count": null,
   "metadata": {},
   "outputs": [],
   "source": []
  }
 ],
 "metadata": {
  "kernelspec": {
   "display_name": "Python 3",
   "language": "python",
   "name": "python3"
  },
  "language_info": {
   "codemirror_mode": {
    "name": "ipython",
    "version": 2
   },
   "file_extension": ".py",
   "mimetype": "text/x-python",
   "name": "python",
   "nbconvert_exporter": "python",
   "pygments_lexer": "ipython2",
   "version": "2.7.16"
  }
 },
 "nbformat": 4,
 "nbformat_minor": 2
}
