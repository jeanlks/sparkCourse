{
 "cells": [
  {
   "cell_type": "code",
   "execution_count": 1,
   "metadata": {},
   "outputs": [],
   "source": [
    "import findspark\n",
    "findspark.init(\"/Users/Jean/spark-2.4.4-bin-hadoop2.7\")\n",
    "from pyspark.sql import SparkSession\n",
    "\n",
    "spark = SparkSession.builder.appName('wallmart').getOrCreate()"
   ]
  },
  {
   "cell_type": "code",
   "execution_count": 53,
   "metadata": {},
   "outputs": [],
   "source": [
    "from pyspark.sql.types import DateType\n",
    "from pyspark.sql.functions import hour, minute, unix_timestamp, from_unixtime, hour,datediff, mean\n",
    "from pyspark.sql.types import (StructField, StringType,\n",
    "                               IntegerType, StructType, TimestampType)"
   ]
  },
  {
   "cell_type": "code",
   "execution_count": 11,
   "metadata": {},
   "outputs": [],
   "source": [
    "data_schema = [\n",
    "               StructField(\"date\", TimestampType(), True),\n",
    "               StructField(\"lastSyncTime\", TimestampType(), True),\n",
    "               StructField(\"deepSleepTime\", IntegerType(), True),\n",
    "               StructField(\"shallowSleepTime\", IntegerType(), True),\n",
    "               StructField(\"wakeTime\", IntegerType(), True),\n",
    "               StructField(\"start\", TimestampType(), True),\n",
    "               StructField(\"stop\", TimestampType(), True),\n",
    "              ]\n",
    "schema = StructType(fields=data_schema)\n",
    "df = spark.read.csv('SLEEP/SLEEP_1568018402172.csv', inferSchema=True, header=True)"
   ]
  },
  {
   "cell_type": "code",
   "execution_count": 12,
   "metadata": {},
   "outputs": [
    {
     "name": "stdout",
     "output_type": "stream",
     "text": [
      "root\n",
      " |-- date: timestamp (nullable = true)\n",
      " |-- lastSyncTime: integer (nullable = true)\n",
      " |-- deepSleepTime: integer (nullable = true)\n",
      " |-- shallowSleepTime: integer (nullable = true)\n",
      " |-- wakeTime: integer (nullable = true)\n",
      " |-- start: integer (nullable = true)\n",
      " |-- stop: integer (nullable = true)\n",
      "\n"
     ]
    }
   ],
   "source": [
    "df.printSchema()"
   ]
  },
  {
   "cell_type": "code",
   "execution_count": 13,
   "metadata": {},
   "outputs": [
    {
     "data": {
      "text/plain": [
       "Row(date=datetime.datetime(2019, 7, 12, 0, 0), lastSyncTime=1563000976, deepSleepTime=98, shallowSleepTime=304, wakeTime=2, start=1562915520, stop=1562939760)"
      ]
     },
     "execution_count": 13,
     "metadata": {},
     "output_type": "execute_result"
    }
   ],
   "source": [
    "df.head()"
   ]
  },
  {
   "cell_type": "code",
   "execution_count": 56,
   "metadata": {},
   "outputs": [],
   "source": [
    "df = df.withColumn(\"dateStart\", from_unixtime(df[\"start\"]))\n",
    "df = df.withColumn(\"dateStop\", from_unixtime(df[\"stop\"]))\n",
    "df = df.withColumn(\"diffHour\", (datediff(df[\"dateStop\"], df[\"dateStart\"])* 24) +\n",
    "                   hour(df[\"dateStop\"]) - hour(df[\"dateStart\"]))"
   ]
  },
  {
   "cell_type": "code",
   "execution_count": 43,
   "metadata": {},
   "outputs": [
    {
     "name": "stdout",
     "output_type": "stream",
     "text": [
      "root\n",
      " |-- date: timestamp (nullable = true)\n",
      " |-- lastSyncTime: integer (nullable = true)\n",
      " |-- deepSleepTime: integer (nullable = true)\n",
      " |-- shallowSleepTime: integer (nullable = true)\n",
      " |-- wakeTime: integer (nullable = true)\n",
      " |-- start: integer (nullable = true)\n",
      " |-- stop: integer (nullable = true)\n",
      " |-- dateStart: string (nullable = true)\n",
      " |-- dateStop: string (nullable = true)\n",
      " |-- diffDate: integer (nullable = true)\n",
      " |-- diffHour: integer (nullable = true)\n",
      "\n"
     ]
    }
   ],
   "source": [
    "df.printSchema()"
   ]
  },
  {
   "cell_type": "code",
   "execution_count": 60,
   "metadata": {},
   "outputs": [
    {
     "name": "stdout",
     "output_type": "stream",
     "text": [
      "+-----------------+\n",
      "|    average sleep|\n",
      "+-----------------+\n",
      "|7.016949152542373|\n",
      "+-----------------+\n",
      "\n"
     ]
    }
   ],
   "source": [
    "df.select(mean(df[\"diffHour\"]).alias(\"average sleep\")).show()"
   ]
  },
  {
   "cell_type": "code",
   "execution_count": 59,
   "metadata": {},
   "outputs": [
    {
     "data": {
      "text/plain": [
       "Row(date=datetime.datetime(2019, 7, 12, 0, 0), lastSyncTime=1563000976, deepSleepTime=98, shallowSleepTime=304, wakeTime=2, start=1562915520, stop=1562939760, dateStart='2019-07-12 04:12:00', dateStop='2019-07-12 10:56:00', diffDate=6, diffHour=6)"
      ]
     },
     "execution_count": 59,
     "metadata": {},
     "output_type": "execute_result"
    }
   ],
   "source": []
  },
  {
   "cell_type": "code",
   "execution_count": null,
   "metadata": {},
   "outputs": [],
   "source": []
  }
 ],
 "metadata": {
  "kernelspec": {
   "display_name": "Python 3",
   "language": "python",
   "name": "python3"
  },
  "language_info": {
   "codemirror_mode": {
    "name": "ipython",
    "version": 3
   },
   "file_extension": ".py",
   "mimetype": "text/x-python",
   "name": "python",
   "nbconvert_exporter": "python",
   "pygments_lexer": "ipython3",
   "version": "3.7.0"
  }
 },
 "nbformat": 4,
 "nbformat_minor": 2
}
