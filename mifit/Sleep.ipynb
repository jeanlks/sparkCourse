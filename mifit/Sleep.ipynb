{
 "cells": [
  {
   "cell_type": "code",
   "execution_count": 2,
   "metadata": {},
   "outputs": [],
   "source": [
    "import findspark\n",
    "findspark.init(\"/Users/Jean/spark-2.4.4-bin-hadoop2.7\")\n",
    "from pyspark.sql import SparkSession\n",
    "\n",
    "spark = SparkSession.builder.appName('mifit').getOrCreate()"
   ]
  },
  {
   "cell_type": "code",
   "execution_count": 3,
   "metadata": {},
   "outputs": [],
   "source": [
    "from pyspark.sql.types import DateType\n",
    "from pyspark.sql.functions import (hour, minute, unix_timestamp,\n",
    "                                   from_unixtime, hour,datediff,\n",
    "                                   mean, month, corr, date_format, \n",
    "                                  to_date, max, min)\n",
    "from pyspark.sql.types import (StructField, StringType,\n",
    "                               IntegerType, StructType, TimestampType)"
   ]
  },
  {
   "cell_type": "code",
   "execution_count": 4,
   "metadata": {},
   "outputs": [],
   "source": [
    "df_sleep = spark.read.csv('SLEEP/SLEEP_1568018402172.csv', inferSchema=True, header=True)\n",
    "df_activity = spark.read.csv('ACTIVITY/ACTIVITY_1568018401826.csv', inferSchema=True, header=True)\n",
    "df_heart = spark.read.csv('HEARTRATE_AUTO/HEARTRATE_AUTO_1568018402363.csv', inferSchema=True, header=True)"
   ]
  },
  {
   "cell_type": "code",
   "execution_count": 5,
   "metadata": {},
   "outputs": [
    {
     "name": "stdout",
     "output_type": "stream",
     "text": [
      "root\n",
      " |-- date: timestamp (nullable = true)\n",
      " |-- lastSyncTime: integer (nullable = true)\n",
      " |-- deepSleepTime: integer (nullable = true)\n",
      " |-- shallowSleepTime: integer (nullable = true)\n",
      " |-- wakeTime: integer (nullable = true)\n",
      " |-- start: integer (nullable = true)\n",
      " |-- stop: integer (nullable = true)\n",
      "\n"
     ]
    }
   ],
   "source": [
    "df_sleep.printSchema()"
   ]
  },
  {
   "cell_type": "code",
   "execution_count": 6,
   "metadata": {},
   "outputs": [
    {
     "name": "stdout",
     "output_type": "stream",
     "text": [
      "root\n",
      " |-- date: timestamp (nullable = true)\n",
      " |-- lastSyncTime: integer (nullable = true)\n",
      " |-- steps: integer (nullable = true)\n",
      " |-- distance: integer (nullable = true)\n",
      " |-- runDistance: integer (nullable = true)\n",
      " |-- calories: integer (nullable = true)\n",
      "\n"
     ]
    }
   ],
   "source": [
    "df_activity.printSchema()"
   ]
  },
  {
   "cell_type": "code",
   "execution_count": 7,
   "metadata": {},
   "outputs": [
    {
     "name": "stdout",
     "output_type": "stream",
     "text": [
      "root\n",
      " |-- date: timestamp (nullable = true)\n",
      " |-- time: string (nullable = true)\n",
      " |-- heartRate: integer (nullable = true)\n",
      "\n"
     ]
    }
   ],
   "source": [
    "df_heart.printSchema()"
   ]
  },
  {
   "cell_type": "code",
   "execution_count": 8,
   "metadata": {},
   "outputs": [
    {
     "data": {
      "text/plain": [
       "Row(date=datetime.datetime(2019, 7, 12, 0, 0), lastSyncTime=1563000976, deepSleepTime=98, shallowSleepTime=304, wakeTime=2, start=1562915520, stop=1562939760)"
      ]
     },
     "execution_count": 8,
     "metadata": {},
     "output_type": "execute_result"
    }
   ],
   "source": [
    "df_sleep.head()"
   ]
  },
  {
   "cell_type": "code",
   "execution_count": 9,
   "metadata": {},
   "outputs": [],
   "source": [
    "df_sleep = df_sleep.withColumn(\"dateStart\", from_unixtime(df_sleep[\"start\"]))\n",
    "df_sleep = df_sleep.withColumn(\"dateStop\", from_unixtime(df_sleep[\"stop\"]))\n",
    "df_sleep = df_sleep.withColumn(\"qntHourSleep\", (datediff(df_sleep[\"dateStop\"], df_sleep[\"dateStart\"])* 24) +\n",
    "                   hour(df_sleep[\"dateStop\"]) - hour(df_sleep[\"dateStart\"]))"
   ]
  },
  {
   "cell_type": "code",
   "execution_count": 10,
   "metadata": {},
   "outputs": [
    {
     "name": "stdout",
     "output_type": "stream",
     "text": [
      "root\n",
      " |-- date: timestamp (nullable = true)\n",
      " |-- lastSyncTime: integer (nullable = true)\n",
      " |-- deepSleepTime: integer (nullable = true)\n",
      " |-- shallowSleepTime: integer (nullable = true)\n",
      " |-- wakeTime: integer (nullable = true)\n",
      " |-- start: integer (nullable = true)\n",
      " |-- stop: integer (nullable = true)\n",
      " |-- dateStart: string (nullable = true)\n",
      " |-- dateStop: string (nullable = true)\n",
      " |-- qntHourSleep: integer (nullable = true)\n",
      "\n"
     ]
    }
   ],
   "source": [
    "df_sleep.printSchema()"
   ]
  },
  {
   "cell_type": "code",
   "execution_count": 11,
   "metadata": {},
   "outputs": [
    {
     "name": "stdout",
     "output_type": "stream",
     "text": [
      "+-----------------+\n",
      "|    average sleep|\n",
      "+-----------------+\n",
      "|7.016949152542373|\n",
      "+-----------------+\n",
      "\n"
     ]
    }
   ],
   "source": [
    "df_sleep.select(mean(df_sleep[\"qntHourSleep\"]).alias(\"average sleep\")).show()"
   ]
  },
  {
   "cell_type": "code",
   "execution_count": 12,
   "metadata": {},
   "outputs": [
    {
     "name": "stdout",
     "output_type": "stream",
     "text": [
      "+-----+-----------------+\n",
      "|month|          average|\n",
      "+-----+-----------------+\n",
      "|    9|            6.875|\n",
      "|    8|6.903225806451613|\n",
      "|    7|             7.25|\n",
      "+-----+-----------------+\n",
      "\n"
     ]
    }
   ],
   "source": [
    "avg_sleep_month = df_sleep.groupBy(month(df_sleep[\"date\"])).mean().select([\"month(date)\",\"avg(qntHourSleep)\"])\n",
    "avg_sleep_month.withColumnRenamed(\"month(date)\", \"month\").withColumnRenamed(\"avg(qntHourSleep)\", \"average\").show()"
   ]
  },
  {
   "cell_type": "code",
   "execution_count": 13,
   "metadata": {},
   "outputs": [],
   "source": [
    "#Merging data with activity data\n",
    "df_merge = df_sleep.join(df_activity, \"date\")"
   ]
  },
  {
   "cell_type": "code",
   "execution_count": 14,
   "metadata": {},
   "outputs": [
    {
     "name": "stdout",
     "output_type": "stream",
     "text": [
      "root\n",
      " |-- date: timestamp (nullable = true)\n",
      " |-- lastSyncTime: integer (nullable = true)\n",
      " |-- deepSleepTime: integer (nullable = true)\n",
      " |-- shallowSleepTime: integer (nullable = true)\n",
      " |-- wakeTime: integer (nullable = true)\n",
      " |-- start: integer (nullable = true)\n",
      " |-- stop: integer (nullable = true)\n",
      " |-- dateStart: string (nullable = true)\n",
      " |-- dateStop: string (nullable = true)\n",
      " |-- qntHourSleep: integer (nullable = true)\n",
      " |-- lastSyncTime: integer (nullable = true)\n",
      " |-- steps: integer (nullable = true)\n",
      " |-- distance: integer (nullable = true)\n",
      " |-- runDistance: integer (nullable = true)\n",
      " |-- calories: integer (nullable = true)\n",
      "\n"
     ]
    }
   ],
   "source": [
    "df_merge.printSchema()"
   ]
  },
  {
   "cell_type": "code",
   "execution_count": 15,
   "metadata": {},
   "outputs": [
    {
     "data": {
      "text/plain": [
       "[Row(date=datetime.datetime(2019, 7, 12, 0, 0), lastSyncTime=1563000976, deepSleepTime=98, shallowSleepTime=304, wakeTime=2, start=1562915520, stop=1562939760, dateStart='2019-07-12 04:12:00', dateStop='2019-07-12 10:56:00', qntHourSleep=6, lastSyncTime=1563000976, steps=6105, distance=4199, runDistance=424, calories=157)]"
      ]
     },
     "execution_count": 15,
     "metadata": {},
     "output_type": "execute_result"
    }
   ],
   "source": [
    "df_merge.head(1)"
   ]
  },
  {
   "cell_type": "code",
   "execution_count": 16,
   "metadata": {},
   "outputs": [
    {
     "name": "stdout",
     "output_type": "stream",
     "text": [
      "+--------------------------------+\n",
      "|corr(calories, shallowSleepTime)|\n",
      "+--------------------------------+\n",
      "|            -0.27953974073528665|\n",
      "+--------------------------------+\n",
      "\n"
     ]
    }
   ],
   "source": [
    "df_merge.select(corr(df_merge[\"calories\"], df_merge[\"shallowSleepTime\"])).show()"
   ]
  },
  {
   "cell_type": "code",
   "execution_count": 17,
   "metadata": {},
   "outputs": [],
   "source": [
    "#Getting the average heart rate per day\n",
    "average_heart = (df_heart.select(df_heart[\"date\"], date_format(df_heart[\"date\"], \"yyyy-MM-dd\").alias(\"day\"), df_heart[\"heartRate\"])\n",
    " .groupBy(\"day\")\n",
    " .mean()\n",
    " .select([\"day\",\"avg(heartRate)\"]))"
   ]
  },
  {
   "cell_type": "code",
   "execution_count": 18,
   "metadata": {},
   "outputs": [
    {
     "name": "stdout",
     "output_type": "stream",
     "text": [
      "root\n",
      " |-- day: string (nullable = true)\n",
      " |-- avg(heartRate): double (nullable = true)\n",
      "\n"
     ]
    }
   ],
   "source": [
    "#The schema now shows the date as a string.\n",
    "average_heart.printSchema()"
   ]
  },
  {
   "cell_type": "code",
   "execution_count": 19,
   "metadata": {},
   "outputs": [],
   "source": [
    "#Get the date back to the date format\n",
    "average_heart = average_heart.select(\n",
    "    average_heart['avg(heartRate)'].alias(\"AvgHeartRate\"), \n",
    "    to_date(unix_timestamp('day', 'yyyy-MM-dd').cast(\"timestamp\")).alias('date')\n",
    ")"
   ]
  },
  {
   "cell_type": "code",
   "execution_count": 20,
   "metadata": {},
   "outputs": [
    {
     "name": "stdout",
     "output_type": "stream",
     "text": [
      "root\n",
      " |-- AvgHeartRate: double (nullable = true)\n",
      " |-- date: date (nullable = true)\n",
      "\n"
     ]
    }
   ],
   "source": [
    "#Now the date is in a date format\n",
    "average_heart.printSchema()"
   ]
  },
  {
   "cell_type": "code",
   "execution_count": 21,
   "metadata": {},
   "outputs": [
    {
     "name": "stdout",
     "output_type": "stream",
     "text": [
      "+-----------------+----------+\n",
      "|     AvgHeartRate|      date|\n",
      "+-----------------+----------+\n",
      "|88.72995780590718|2019-08-08|\n",
      "|96.98776758409785|2019-08-31|\n",
      "|79.87243735763099|2019-07-13|\n",
      "|77.62081784386618|2019-07-19|\n",
      "|90.71465968586388|2019-08-29|\n",
      "|83.92491467576792|2019-07-26|\n",
      "|85.23397435897436|2019-08-01|\n",
      "|78.88571428571429|2019-08-04|\n",
      "|84.48571428571428|2019-08-11|\n",
      "|85.85664335664336|2019-09-08|\n",
      "| 79.4171270718232|2019-07-12|\n",
      "|86.34166666666667|2019-09-03|\n",
      "| 87.6403785488959|2019-08-27|\n",
      "|83.30847457627118|2019-07-23|\n",
      "|83.89240506329114|2019-07-14|\n",
      "|87.72093023255815|2019-08-28|\n",
      "|87.31058020477816|2019-07-24|\n",
      "|83.98692810457516|2019-08-06|\n",
      "|95.26923076923077|2019-09-01|\n",
      "| 85.2970711297071|2019-08-07|\n",
      "+-----------------+----------+\n",
      "only showing top 20 rows\n",
      "\n"
     ]
    }
   ],
   "source": [
    "average_heart.show()"
   ]
  },
  {
   "cell_type": "code",
   "execution_count": 22,
   "metadata": {},
   "outputs": [],
   "source": [
    "#Merging data with heart data\n",
    "df_merge = df_merge.join(average_heart, \"date\")"
   ]
  },
  {
   "cell_type": "code",
   "execution_count": 23,
   "metadata": {},
   "outputs": [
    {
     "name": "stdout",
     "output_type": "stream",
     "text": [
      "root\n",
      " |-- date: timestamp (nullable = true)\n",
      " |-- lastSyncTime: integer (nullable = true)\n",
      " |-- deepSleepTime: integer (nullable = true)\n",
      " |-- shallowSleepTime: integer (nullable = true)\n",
      " |-- wakeTime: integer (nullable = true)\n",
      " |-- start: integer (nullable = true)\n",
      " |-- stop: integer (nullable = true)\n",
      " |-- dateStart: string (nullable = true)\n",
      " |-- dateStop: string (nullable = true)\n",
      " |-- qntHourSleep: integer (nullable = true)\n",
      " |-- lastSyncTime: integer (nullable = true)\n",
      " |-- steps: integer (nullable = true)\n",
      " |-- distance: integer (nullable = true)\n",
      " |-- runDistance: integer (nullable = true)\n",
      " |-- calories: integer (nullable = true)\n",
      " |-- AvgHeartRate: double (nullable = true)\n",
      "\n"
     ]
    }
   ],
   "source": [
    "df_merge.printSchema()"
   ]
  },
  {
   "cell_type": "code",
   "execution_count": 41,
   "metadata": {},
   "outputs": [
    {
     "name": "stdout",
     "output_type": "stream",
     "text": [
      "+-------------------------------------+\n",
      "|corr(shallowSleepTime, deepSleepTime)|\n",
      "+-------------------------------------+\n",
      "|                 -0.08180222534329716|\n",
      "+-------------------------------------+\n",
      "\n"
     ]
    }
   ],
   "source": [
    "df_merge.select(corr(df_merge[\"shallowSleepTime\"], df_merge[\"deepSleepTime\"])).show()"
   ]
  },
  {
   "cell_type": "code",
   "execution_count": 25,
   "metadata": {},
   "outputs": [
    {
     "name": "stdout",
     "output_type": "stream",
     "text": [
      "+-----------------+\n",
      "|min(AvgHeartRate)|\n",
      "+-----------------+\n",
      "|             68.5|\n",
      "+-----------------+\n",
      "\n"
     ]
    }
   ],
   "source": [
    "df_merge.select(min(\"AvgHeartRate\")).show()"
   ]
  },
  {
   "cell_type": "code",
   "execution_count": null,
   "metadata": {},
   "outputs": [],
   "source": []
  }
 ],
 "metadata": {
  "kernelspec": {
   "display_name": "Python 3",
   "language": "python",
   "name": "python3"
  },
  "language_info": {
   "codemirror_mode": {
    "name": "ipython",
    "version": 3
   },
   "file_extension": ".py",
   "mimetype": "text/x-python",
   "name": "python",
   "nbconvert_exporter": "python",
   "pygments_lexer": "ipython3",
   "version": "3.7.0"
  }
 },
 "nbformat": 4,
 "nbformat_minor": 2
}
