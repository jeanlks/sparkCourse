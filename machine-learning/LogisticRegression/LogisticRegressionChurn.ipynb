{
 "cells": [
  {
   "cell_type": "code",
   "execution_count": 1,
   "metadata": {},
   "outputs": [],
   "source": [
    "import findspark\n",
    "findspark.init(\"/Users/jean/spark-2.4.4-bin-hadoop2.7\")\n",
    "from pyspark.sql import SparkSession\n",
    "\n",
    "spark = SparkSession.builder.appName('churn').getOrCreate()"
   ]
  },
  {
   "cell_type": "code",
   "execution_count": 2,
   "metadata": {},
   "outputs": [],
   "source": [
    "df = spark.read.csv(\"customer_churn.csv\", inferSchema=True, header=True)"
   ]
  },
  {
   "cell_type": "code",
   "execution_count": 3,
   "metadata": {},
   "outputs": [
    {
     "name": "stdout",
     "output_type": "stream",
     "text": [
      "root\n",
      " |-- Names: string (nullable = true)\n",
      " |-- Age: double (nullable = true)\n",
      " |-- Total_Purchase: double (nullable = true)\n",
      " |-- Account_Manager: integer (nullable = true)\n",
      " |-- Years: double (nullable = true)\n",
      " |-- Num_Sites: double (nullable = true)\n",
      " |-- Onboard_date: timestamp (nullable = true)\n",
      " |-- Location: string (nullable = true)\n",
      " |-- Company: string (nullable = true)\n",
      " |-- Churn: integer (nullable = true)\n",
      "\n"
     ]
    }
   ],
   "source": [
    "df.printSchema()"
   ]
  },
  {
   "cell_type": "code",
   "execution_count": 4,
   "metadata": {},
   "outputs": [
    {
     "data": {
      "text/plain": [
       "['Names',\n",
       " 'Age',\n",
       " 'Total_Purchase',\n",
       " 'Account_Manager',\n",
       " 'Years',\n",
       " 'Num_Sites',\n",
       " 'Onboard_date',\n",
       " 'Location',\n",
       " 'Company',\n",
       " 'Churn']"
      ]
     },
     "execution_count": 4,
     "metadata": {},
     "output_type": "execute_result"
    }
   ],
   "source": [
    "df.columns"
   ]
  },
  {
   "cell_type": "code",
   "execution_count": 5,
   "metadata": {},
   "outputs": [],
   "source": [
    "important_cols = df.select(['Age', 'Total_Purchase', 'Years', 'Num_Sites', 'Company', 'Churn'])"
   ]
  },
  {
   "cell_type": "code",
   "execution_count": 6,
   "metadata": {},
   "outputs": [],
   "source": [
    "final_data = important_cols.na.drop()"
   ]
  },
  {
   "cell_type": "code",
   "execution_count": 7,
   "metadata": {},
   "outputs": [],
   "source": [
    "from pyspark.ml.feature import (VectorAssembler, VectorIndexer, OneHotEncoder, StringIndexer)"
   ]
  },
  {
   "cell_type": "code",
   "execution_count": 8,
   "metadata": {},
   "outputs": [],
   "source": [
    "company_indexer = StringIndexer(inputCol=\"Company\", outputCol=\"Company_index\")\n",
    "company_enconder = OneHotEncoder(inputCol=\"Company_index\", outputCol=\"Company_vect\")"
   ]
  },
  {
   "cell_type": "code",
   "execution_count": 9,
   "metadata": {},
   "outputs": [],
   "source": [
    "assembler = (VectorAssembler(inputCols=['Age', 'Total_Purchase', 'Years', 'Num_Sites'],\n",
    "                             outputCol=\"features\"))"
   ]
  },
  {
   "cell_type": "code",
   "execution_count": 10,
   "metadata": {},
   "outputs": [],
   "source": [
    "from pyspark.ml.classification import LogisticRegression"
   ]
  },
  {
   "cell_type": "code",
   "execution_count": 11,
   "metadata": {},
   "outputs": [],
   "source": [
    "log = LogisticRegression(featuresCol=\"features\", labelCol=\"Churn\")"
   ]
  },
  {
   "cell_type": "code",
   "execution_count": 12,
   "metadata": {},
   "outputs": [],
   "source": [
    "train_data, test_data = final_data.randomSplit([0.7,0.3])"
   ]
  },
  {
   "cell_type": "code",
   "execution_count": 13,
   "metadata": {},
   "outputs": [
    {
     "data": {
      "text/plain": [
       "DataFrame[Age: double, Total_Purchase: double, Years: double, Num_Sites: double, Company: string, Churn: int]"
      ]
     },
     "execution_count": 13,
     "metadata": {},
     "output_type": "execute_result"
    }
   ],
   "source": [
    "test_data"
   ]
  },
  {
   "cell_type": "code",
   "execution_count": 14,
   "metadata": {},
   "outputs": [],
   "source": [
    "from pyspark.ml.pipeline import Pipeline"
   ]
  },
  {
   "cell_type": "code",
   "execution_count": 15,
   "metadata": {},
   "outputs": [],
   "source": [
    "pipeline = Pipeline(stages=[assembler, log])"
   ]
  },
  {
   "cell_type": "code",
   "execution_count": 16,
   "metadata": {},
   "outputs": [],
   "source": [
    "fit_model = pipeline.fit(train_data)"
   ]
  },
  {
   "cell_type": "code",
   "execution_count": 17,
   "metadata": {},
   "outputs": [],
   "source": [
    "results = fit_model.transform(test_data)"
   ]
  },
  {
   "cell_type": "code",
   "execution_count": 18,
   "metadata": {},
   "outputs": [],
   "source": [
    "from pyspark.ml.evaluation import BinaryClassificationEvaluator"
   ]
  },
  {
   "cell_type": "code",
   "execution_count": 19,
   "metadata": {},
   "outputs": [],
   "source": [
    "my_eval = BinaryClassificationEvaluator(labelCol=\"Churn\", rawPredictionCol=\"prediction\")"
   ]
  },
  {
   "cell_type": "code",
   "execution_count": 20,
   "metadata": {},
   "outputs": [
    {
     "data": {
      "text/plain": [
       "0.7515299877600978"
      ]
     },
     "execution_count": 20,
     "metadata": {},
     "output_type": "execute_result"
    }
   ],
   "source": [
    "my_eval.evaluate(results)"
   ]
  },
  {
   "cell_type": "code",
   "execution_count": 21,
   "metadata": {},
   "outputs": [
    {
     "name": "stdout",
     "output_type": "stream",
     "text": [
      "+----+--------------+-----+---------+--------------------+-----+--------------------+--------------------+--------------------+----------+\n",
      "| Age|Total_Purchase|Years|Num_Sites|             Company|Churn|            features|       rawPrediction|         probability|prediction|\n",
      "+----+--------------+-----+---------+--------------------+-----+--------------------+--------------------+--------------------+----------+\n",
      "|29.0|       9378.24| 4.93|      8.0|White, Jones and ...|    0|[29.0,9378.24,4.9...|[4.30306597283259...|[0.98665351628998...|       0.0|\n",
      "|29.0|       9617.59| 5.49|      8.0|         Mendoza Inc|    0|[29.0,9617.59,5.4...|[3.98183238312348...|[0.98169007487498...|       0.0|\n",
      "|29.0|      11274.46| 4.43|      8.0|Crawford, Scott a...|    0|[29.0,11274.46,4....|[4.59204965622425...|[0.98996955930937...|       0.0|\n",
      "|29.0|      12711.15| 5.74|      7.0|       Velasquez PLC|    0|[29.0,12711.15,5....|[4.99879822080133...|[0.99329915484110...|       0.0|\n",
      "|30.0|      11575.37| 5.22|      8.0|Briggs, Lamb and ...|    1|[30.0,11575.37,5....|[4.08565044211832...|[0.98346577628690...|       0.0|\n",
      "|30.0|      12788.37| 4.31|     10.0|      Everett-Taylor|    0|[30.0,12788.37,4....|[2.29469143336480...|[0.90843643046653...|       0.0|\n",
      "|31.0|       8829.83| 4.52|      8.0|       Hunt-Whitaker|    0|[31.0,8829.83,4.5...|[4.43148612269661...|[0.98824307333350...|       0.0|\n",
      "|31.0|      12264.68| 5.88|      8.0|          Tucker PLC|    0|[31.0,12264.68,5....|[3.65427949003422...|[0.97477274711335...|       0.0|\n",
      "|32.0|       5756.12|  5.9|      8.0|    Roberts-Schaefer|    0|[32.0,5756.12,5.9...|[3.58291779591544...|[0.97295716049257...|       0.0|\n",
      "|32.0|       7896.65| 7.12|      8.0|       Hawkins-Mckay|    0|[32.0,7896.65,7.1...|[2.88475111236505...|[0.94708746152596...|       0.0|\n",
      "|32.0|      10716.75| 5.12|      8.0|Bates, Montgomery...|    0|[32.0,10716.75,5....|[4.03578996675668...|[0.98263515210416...|       0.0|\n",
      "|32.0|      11715.72| 4.73|      9.0|            Neal Inc|    0|[32.0,11715.72,4....|[3.10339914313274...|[0.95703273882906...|       0.0|\n",
      "|32.0|      12142.99| 5.01|      7.0|             Lee Inc|    0|[32.0,12142.99,5....|[5.25770801851618...|[0.99481974882091...|       0.0|\n",
      "|32.0|      12479.72| 4.67|      8.0|         Fischer PLC|    0|[32.0,12479.72,4....|[4.29593320484043...|[0.98655926269613...|       0.0|\n",
      "|32.0|      12547.91| 7.78|     10.0|           Watts Ltd|    0|[32.0,12547.91,7....|[0.19603415280906...|[0.54885219165649...|       0.0|\n",
      "|33.0|       7750.54| 4.57|      8.0|     Rodriguez-Flynn|    0|[33.0,7750.54,4.5...|[4.29528831865662...|[0.98655070876752...|       0.0|\n",
      "|33.0|      10709.39| 5.22|      6.0|Ellison, Pace and...|    0|[33.0,10709.39,5....|[6.23979231358493...|[0.99805353558929...|       0.0|\n",
      "|33.0|      12638.51| 5.01|      8.0|       Watts-Kennedy|    0|[33.0,12638.51,5....|[4.04771972176493...|[0.98283754548692...|       0.0|\n",
      "|33.0|      13314.19| 5.45|      9.0|        Harvey-Mckay|    0|[33.0,13314.19,5....|[2.63851813102441...|[0.93329977535869...|       0.0|\n",
      "|33.0|      14160.05| 4.61|      7.0|        Lewis-Wilson|    0|[33.0,14160.05,4....|[5.43621616405484...|[0.99566295760376...|       0.0|\n",
      "+----+--------------+-----+---------+--------------------+-----+--------------------+--------------------+--------------------+----------+\n",
      "only showing top 20 rows\n",
      "\n"
     ]
    }
   ],
   "source": [
    "results.show()"
   ]
  },
  {
   "cell_type": "code",
   "execution_count": 22,
   "metadata": {},
   "outputs": [
    {
     "name": "stdout",
     "output_type": "stream",
     "text": [
      "+----+--------------+-----+---------+--------------------+-----+--------------------+--------------------+--------------------+----------+\n",
      "| Age|Total_Purchase|Years|Num_Sites|             Company|Churn|            features|       rawPrediction|         probability|prediction|\n",
      "+----+--------------+-----+---------+--------------------+-----+--------------------+--------------------+--------------------+----------+\n",
      "|29.0|       9378.24| 4.93|      8.0|White, Jones and ...|    0|[29.0,9378.24,4.9...|[4.30306597283259...|[0.98665351628998...|       0.0|\n",
      "|29.0|       9617.59| 5.49|      8.0|         Mendoza Inc|    0|[29.0,9617.59,5.4...|[3.98183238312348...|[0.98169007487498...|       0.0|\n",
      "|29.0|      11274.46| 4.43|      8.0|Crawford, Scott a...|    0|[29.0,11274.46,4....|[4.59204965622425...|[0.98996955930937...|       0.0|\n",
      "|29.0|      12711.15| 5.74|      7.0|       Velasquez PLC|    0|[29.0,12711.15,5....|[4.99879822080133...|[0.99329915484110...|       0.0|\n",
      "|30.0|      11575.37| 5.22|      8.0|Briggs, Lamb and ...|    1|[30.0,11575.37,5....|[4.08565044211832...|[0.98346577628690...|       0.0|\n",
      "|30.0|      12788.37| 4.31|     10.0|      Everett-Taylor|    0|[30.0,12788.37,4....|[2.29469143336480...|[0.90843643046653...|       0.0|\n",
      "|31.0|       8829.83| 4.52|      8.0|       Hunt-Whitaker|    0|[31.0,8829.83,4.5...|[4.43148612269661...|[0.98824307333350...|       0.0|\n",
      "|31.0|      12264.68| 5.88|      8.0|          Tucker PLC|    0|[31.0,12264.68,5....|[3.65427949003422...|[0.97477274711335...|       0.0|\n",
      "|32.0|       5756.12|  5.9|      8.0|    Roberts-Schaefer|    0|[32.0,5756.12,5.9...|[3.58291779591544...|[0.97295716049257...|       0.0|\n",
      "|32.0|       7896.65| 7.12|      8.0|       Hawkins-Mckay|    0|[32.0,7896.65,7.1...|[2.88475111236505...|[0.94708746152596...|       0.0|\n",
      "|32.0|      10716.75| 5.12|      8.0|Bates, Montgomery...|    0|[32.0,10716.75,5....|[4.03578996675668...|[0.98263515210416...|       0.0|\n",
      "|32.0|      11715.72| 4.73|      9.0|            Neal Inc|    0|[32.0,11715.72,4....|[3.10339914313274...|[0.95703273882906...|       0.0|\n",
      "|32.0|      12142.99| 5.01|      7.0|             Lee Inc|    0|[32.0,12142.99,5....|[5.25770801851618...|[0.99481974882091...|       0.0|\n",
      "|32.0|      12479.72| 4.67|      8.0|         Fischer PLC|    0|[32.0,12479.72,4....|[4.29593320484043...|[0.98655926269613...|       0.0|\n",
      "|32.0|      12547.91| 7.78|     10.0|           Watts Ltd|    0|[32.0,12547.91,7....|[0.19603415280906...|[0.54885219165649...|       0.0|\n",
      "|33.0|       7750.54| 4.57|      8.0|     Rodriguez-Flynn|    0|[33.0,7750.54,4.5...|[4.29528831865662...|[0.98655070876752...|       0.0|\n",
      "|33.0|      10709.39| 5.22|      6.0|Ellison, Pace and...|    0|[33.0,10709.39,5....|[6.23979231358493...|[0.99805353558929...|       0.0|\n",
      "|33.0|      12638.51| 5.01|      8.0|       Watts-Kennedy|    0|[33.0,12638.51,5....|[4.04771972176493...|[0.98283754548692...|       0.0|\n",
      "|33.0|      13314.19| 5.45|      9.0|        Harvey-Mckay|    0|[33.0,13314.19,5....|[2.63851813102441...|[0.93329977535869...|       0.0|\n",
      "|33.0|      14160.05| 4.61|      7.0|        Lewis-Wilson|    0|[33.0,14160.05,4....|[5.43621616405484...|[0.99566295760376...|       0.0|\n",
      "+----+--------------+-----+---------+--------------------+-----+--------------------+--------------------+--------------------+----------+\n",
      "only showing top 20 rows\n",
      "\n"
     ]
    }
   ],
   "source": [
    "results.show()"
   ]
  },
  {
   "cell_type": "code",
   "execution_count": 23,
   "metadata": {},
   "outputs": [],
   "source": [
    "df_new_customers = spark.read.csv('new_customers.csv', inferSchema=True, header=True)"
   ]
  },
  {
   "cell_type": "code",
   "execution_count": 25,
   "metadata": {},
   "outputs": [
    {
     "name": "stdout",
     "output_type": "stream",
     "text": [
      "root\n",
      " |-- Names: string (nullable = true)\n",
      " |-- Age: double (nullable = true)\n",
      " |-- Total_Purchase: double (nullable = true)\n",
      " |-- Account_Manager: integer (nullable = true)\n",
      " |-- Years: double (nullable = true)\n",
      " |-- Num_Sites: double (nullable = true)\n",
      " |-- Onboard_date: timestamp (nullable = true)\n",
      " |-- Location: string (nullable = true)\n",
      " |-- Company: string (nullable = true)\n",
      "\n"
     ]
    }
   ],
   "source": [
    "df_new_customers.printSchema()"
   ]
  },
  {
   "cell_type": "code",
   "execution_count": 27,
   "metadata": {},
   "outputs": [],
   "source": [
    "new_results = fit_model.transform(df_new_customers)"
   ]
  },
  {
   "cell_type": "code",
   "execution_count": 31,
   "metadata": {},
   "outputs": [
    {
     "name": "stdout",
     "output_type": "stream",
     "text": [
      "+--------------+----+--------------------+----------+\n",
      "|         Names| Age|         probability|prediction|\n",
      "+--------------+----+--------------------+----------+\n",
      "| Andrew Mccall|37.0|[0.90739050465566...|       0.0|\n",
      "|Michele Wright|23.0|[0.00252743153376...|       1.0|\n",
      "|  Jeremy Chang|65.0|[0.03028237632827...|       1.0|\n",
      "|Megan Ferguson|32.0|[0.00463530789584...|       1.0|\n",
      "|  Taylor Young|32.0|[0.77501059334140...|       0.0|\n",
      "| Jessica Drake|22.0|[0.19380248483589...|       1.0|\n",
      "+--------------+----+--------------------+----------+\n",
      "\n"
     ]
    }
   ],
   "source": [
    "new_results.select(['Names', 'Age', 'probability', 'prediction']).show()"
   ]
  },
  {
   "cell_type": "code",
   "execution_count": null,
   "metadata": {},
   "outputs": [],
   "source": []
  }
 ],
 "metadata": {
  "kernelspec": {
   "display_name": "Python 3",
   "language": "python",
   "name": "python3"
  },
  "language_info": {
   "codemirror_mode": {
    "name": "ipython",
    "version": 3
   },
   "file_extension": ".py",
   "mimetype": "text/x-python",
   "name": "python",
   "nbconvert_exporter": "python",
   "pygments_lexer": "ipython3",
   "version": "3.7.0"
  }
 },
 "nbformat": 4,
 "nbformat_minor": 2
}
